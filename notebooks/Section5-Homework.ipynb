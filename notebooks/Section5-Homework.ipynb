{
 "cells": [
  {
   "cell_type": "markdown",
   "metadata": {},
   "source": [
    "# Section 5: Homework Exercises\n",
    "\n",
    "This material provides some hands-on experience using the methods learned from the third day's material."
   ]
  },
  {
   "cell_type": "code",
   "execution_count": null,
   "metadata": {},
   "outputs": [],
   "source": [
    "import matplotlib.pyplot as plt\n",
    "import seaborn as sns\n",
    "import numpy as np\n",
    "import pandas as pd\n",
    "import scipy.stats as st\n",
    "import pymc3 as pm\n",
    "import theano.tensor as tt\n",
    "import arviz as az\n",
    "import io"
   ]
  },
  {
   "cell_type": "markdown",
   "metadata": {},
   "source": [
    "Consider a data set from \"Statistics: A Bayesian Perspective\", by Don Berry (1995). The dataset describes the outcome of professional golfers putting from a number of distances:"
   ]
  },
  {
   "cell_type": "code",
   "execution_count": null,
   "metadata": {},
   "outputs": [],
   "source": [
    "# golf putting data from berry (1996)\n",
    "golf_data = \"\"\"distance tries successes\n",
    "2 1443 1346\n",
    "3 694 577\n",
    "4 455 337\n",
    "5 353 208\n",
    "6 272 149\n",
    "7 256 136\n",
    "8 240 111\n",
    "9 217 69\n",
    "10 200 67\n",
    "11 237 75\n",
    "12 202 52\n",
    "13 192 46\n",
    "14 174 54\n",
    "15 167 28\n",
    "16 201 27\n",
    "17 195 31\n",
    "18 191 33\n",
    "19 147 20\n",
    "20 152 24\"\"\"\n",
    "\n",
    "\n",
    "golf_data = pd.read_csv(io.StringIO(golf_data), sep=\" \")"
   ]
  },
  {
   "cell_type": "code",
   "execution_count": null,
   "metadata": {},
   "outputs": [],
   "source": [
    "golf_data.assign(p=golf_data.successes/golf_data.tries).plot('distance', 'p');"
   ]
  },
  {
   "cell_type": "markdown",
   "metadata": {},
   "source": [
    "Use a latent GP to estimate the probability of success according to distance."
   ]
  },
  {
   "cell_type": "code",
   "execution_count": null,
   "metadata": {},
   "outputs": [],
   "source": [
    "# Write your answer here"
   ]
  }
 ],
 "metadata": {
  "kernelspec": {
   "display_name": "Python 3.7.6 64-bit ('bayes_course': conda)",
   "language": "python",
   "name": "python37664bitbayescoursecondaac15308fe835468386ae397edcb53ec9"
  },
  "language_info": {
   "codemirror_mode": {
    "name": "ipython",
    "version": 3
   },
   "file_extension": ".py",
   "mimetype": "text/x-python",
   "name": "python",
   "nbconvert_exporter": "python",
   "pygments_lexer": "ipython3",
   "version": "3.7.6"
  }
 },
 "nbformat": 4,
 "nbformat_minor": 4
}
